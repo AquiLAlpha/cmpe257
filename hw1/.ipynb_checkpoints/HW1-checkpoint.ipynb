{
 "cells": [
  {
   "cell_type": "markdown",
   "metadata": {
    "colab_type": "text",
    "id": "-9rcVXOL2ogw"
   },
   "source": [
    "## Hands on Lab & Homework\n"
   ]
  },
  {
   "cell_type": "markdown",
   "metadata": {
    "colab_type": "text",
    "id": "g1CW8ieH29hb"
   },
   "source": [
    "### Q1. Perform the following computation without use of any libraries\n",
    "\n",
    "\n",
    "```math\n",
    "    [1,-40,36]\n",
    "A = [2,80,-72]\n",
    "    [3,-40,-72]\n",
    "\n",
    "    [0,49,7]\n",
    "B = [9,64,81]\n",
    "    [222,3,0.1]\n",
    "```\n",
    "\n",
    "Given two matrices A & B perform the operations:\n",
    "* A + B\n",
    "* A - B\n",
    "* AB"
   ]
  },
  {
   "cell_type": "code",
   "execution_count": 8,
   "metadata": {
    "colab": {},
    "colab_type": "code",
    "id": "bsVUuAXChcuh"
   },
   "outputs": [
    {
     "name": "stdout",
     "output_type": "stream",
     "text": [
      "[[1, 9, 43], [11, 144, 9], [225, -37, -71.9]]\n",
      "[[1, -89, 29], [-7, 16, -153], [-219, -43, -72.1]]\n",
      "[[7632, -2403, -3229.4], [-15264, 5002, 6486.8], [-16344, -2629, -3226.2]]\n"
     ]
    }
   ],
   "source": [
    "A = [[1,-40,36],[2,80,-72],[3,-40,-72]]\n",
    "B = [[0,49,7],[9,64,81],[222,3,0.1]]\n",
    "res1 = [[0,0,0],[0,0,0],[0,0,0]]\n",
    "for i in range(3):\n",
    "    for j in range(3):\n",
    "        res1[i][j] = A[i][j] + B[i][j]\n",
    "print(res1)\n",
    "res2 = [[0,0,0],[0,0,0],[0,0,0]]\n",
    "for i in range(3):\n",
    "    for j in range(3):\n",
    "        res2[i][j] = A[i][j] - B[i][j]\n",
    "print(res2)\n",
    "res3 = [[0,0,0],[0,0,0],[0,0,0]]\n",
    "for i in range(3):\n",
    "    for j in range(3):\n",
    "        for k in range(3):\n",
    "            res3[i][j] += A[i][k] * B[k][j]\n",
    "print(res3)"
   ]
  },
  {
   "cell_type": "markdown",
   "metadata": {
    "colab_type": "text",
    "id": "LNaDbRzX7gT8"
   },
   "source": [
    "### Q2. Perform the same computation using Numpy package"
   ]
  },
  {
   "cell_type": "code",
   "execution_count": 10,
   "metadata": {},
   "outputs": [
    {
     "name": "stdout",
     "output_type": "stream",
     "text": [
      "[[  1.    9.   43. ]\n",
      " [ 11.  144.    9. ]\n",
      " [225.  -37.  -71.9]]\n",
      "[[   1.   -89.    29. ]\n",
      " [  -7.    16.  -153. ]\n",
      " [-219.   -43.   -72.1]]\n",
      "[[  7632.   -2403.   -3229.4]\n",
      " [-15264.    5002.    6486.8]\n",
      " [-16344.   -2629.   -3226.2]]\n"
     ]
    }
   ],
   "source": [
    "from numpy import *\n",
    "A = mat([[1,-40,36],[2,80,-72],[3,-40,-72]])\n",
    "B = mat([[0,49,7],[9,64,81],[222,3,0.1]])\n",
    "res1 = A+B\n",
    "print(res1)\n",
    "res2 = A-B\n",
    "print(res2)\n",
    "res3 = A*B\n",
    "print(res3)"
   ]
  },
  {
   "cell_type": "markdown",
   "metadata": {
    "colab_type": "text",
    "id": "kJ2l-Da_87du"
   },
   "source": [
    "### Q3. Compute using numpy\n",
    "* A<sup>T</sup>\n",
    "* B<sup>T</sup>\n",
    "* A<sup>T</sup>B<sup>T</sup>\n",
    "* AA<sup>T</sup>"
   ]
  },
  {
   "cell_type": "code",
   "execution_count": 12,
   "metadata": {
    "colab": {},
    "colab_type": "code",
    "id": "N9pGsuDb9Vt6",
    "scrolled": true
   },
   "outputs": [
    {
     "name": "stdout",
     "output_type": "stream",
     "text": [
      "[[  1   2   3]\n",
      " [-40  80 -40]\n",
      " [ 36 -72 -72]]\n",
      "[[0.00e+00 9.00e+00 2.22e+02]\n",
      " [4.90e+01 6.40e+01 3.00e+00]\n",
      " [7.00e+00 8.10e+01 1.00e-01]]\n",
      "[[   119.     380.     228.3]\n",
      " [  3640.    1520.   -8644. ]\n",
      " [ -4032.  -10116.    7768.8]]\n",
      "[[ 2897 -5790  -989]\n",
      " [-5790 11588  1990]\n",
      " [ -989  1990  6793]]\n"
     ]
    }
   ],
   "source": [
    "print(A.T)\n",
    "print(B.T)\n",
    "print(A.T * B.T)\n",
    "print(A * A.T)"
   ]
  },
  {
   "cell_type": "markdown",
   "metadata": {
    "colab_type": "text",
    "id": "-b-ozbG7oVE1"
   },
   "source": [
    "### Q4. Load a dataset from file (data_1.csv)"
   ]
  },
  {
   "cell_type": "code",
   "execution_count": 13,
   "metadata": {},
   "outputs": [],
   "source": [
    "data_1 = loadtxt(\"data_1.csv\",delimiter=\",\")"
   ]
  },
  {
   "cell_type": "markdown",
   "metadata": {
    "colab_type": "text",
    "id": "C_zF_wFIolxP"
   },
   "source": [
    "### Q5. Print size of the matrix"
   ]
  },
  {
   "cell_type": "code",
   "execution_count": 14,
   "metadata": {},
   "outputs": [
    {
     "name": "stdout",
     "output_type": "stream",
     "text": [
      "(10000, 2)\n",
      "20000\n"
     ]
    }
   ],
   "source": [
    "print(data_1.shape)\n",
    "print(data_1.size)"
   ]
  },
  {
   "cell_type": "markdown",
   "metadata": {
    "colab_type": "text",
    "id": "LtauOqfQoyOC"
   },
   "source": [
    "### Q6. Slice matrix into X value & Y Value"
   ]
  },
  {
   "cell_type": "code",
   "execution_count": 15,
   "metadata": {},
   "outputs": [
    {
     "name": "stdout",
     "output_type": "stream",
     "text": [
      "[-0.75240029 -0.70202519  0.05818474 ...  1.35851447  0.66805519\n",
      "  0.19084289]\n",
      "[-1.99282674 -1.93544494 -1.02032103 ...  4.86744406  2.75352546\n",
      "  2.15642094]\n"
     ]
    }
   ],
   "source": [
    "X = data_1[:,0]\n",
    "Y = data_1[:,1]\n",
    "print(X)\n",
    "print(Y)"
   ]
  },
  {
   "cell_type": "markdown",
   "metadata": {
    "colab_type": "text",
    "id": "vrUTR2qYQQUC"
   },
   "source": [
    "### Q7. Plot the data points"
   ]
  },
  {
   "cell_type": "code",
   "execution_count": 16,
   "metadata": {},
   "outputs": [
    {
     "data": {
      "image/png": "[encoded data removed]",
      "text/plain": [
       "<Figure size 432x288 with 1 Axes>"
      ]
     },
     "metadata": {
      "needs_background": "light"
     },
     "output_type": "display_data"
    }
   ],
   "source": [
    "import matplotlib.pyplot as plt\n",
    "plt.figure()\n",
    "plt.scatter(X,Y,marker=\"o\")\n",
    "plt.show()"
   ]
  },
  {
   "cell_type": "markdown",
   "metadata": {
    "colab_type": "text",
    "id": "9GrmEWW8QXar"
   },
   "source": [
    "### Q8. Plot a straight line that represents the relation between X & Y"
   ]
  },
  {
   "cell_type": "code",
   "execution_count": 21,
   "metadata": {},
   "outputs": [
    {
     "data": {
      "image/png": "[encoded data removed]",
      "text/plain": [
       "<Figure size 432x288 with 1 Axes>"
      ]
     },
     "metadata": {
      "needs_background": "light"
     },
     "output_type": "display_data"
    }
   ],
   "source": [
    "z1 = polyfit(X,Y,1)\n",
    "p1 = poly1d(z1)\n",
    "plt.figure()\n",
    "plt.scatter(X,Y,marker=\"o\")\n",
    "plt.plot(X, p1(X), \"r--\")\n",
    "plt.show()"
   ]
  },
  {
   "cell_type": "markdown",
   "metadata": {
    "colab_type": "text",
    "id": "61vbfhCXkVwf"
   },
   "source": [
    "### Q9 Repeat Q4 - Q8 using data_2.csv"
   ]
  },
  {
   "cell_type": "code",
   "execution_count": 23,
   "metadata": {},
   "outputs": [
    {
     "name": "stdout",
     "output_type": "stream",
     "text": [
      "(10000, 2)\n",
      "20000\n",
      "[-6.28318531 -6.28192854 -6.28067178 ...  6.28067178  6.28192854\n",
      "  6.28318531]\n",
      "[ 0.04348734  0.08434662 -0.02869326 ...  0.05312648  0.00955617\n",
      "  0.06909911]\n"
     ]
    },
    {
     "data": {
      "image/png": "[encoded data removed]",
      "text/plain": [
       "<Figure size 432x288 with 1 Axes>"
      ]
     },
     "metadata": {
      "needs_background": "light"
     },
     "output_type": "display_data"
    }
   ],
   "source": [
    "data_2 = loadtxt(\"data_2.csv\",delimiter=\",\")\n",
    "print(data_2.shape)\n",
    "print(data_2.size)\n",
    "X2 = data_2[:,0]\n",
    "Y2 = data_2[:,1]\n",
    "print(X2)\n",
    "print(Y2)\n",
    "z1 = polyfit(X,Y,1)\n",
    "p1 = poly1d(z1)\n",
    "plt.figure()\n",
    "plt.scatter(X,Y,marker=\"o\")\n",
    "plt.plot(X, p1(X), \"r--\")\n",
    "plt.show()"
   ]
  },
  {
   "cell_type": "code",
   "execution_count": null,
   "metadata": {},
   "outputs": [],
   "source": []
  }
 ],
 "metadata": {
  "colab": {
   "collapsed_sections": [],
   "name": "LAB1/HW.ipynb",
   "provenance": [],
   "toc_visible": true
  },
  "kernelspec": {
   "display_name": "Python 3",
   "language": "python",
   "name": "python3"
  },
  "language_info": {
   "codemirror_mode": {
    "name": "ipython",
    "version": 3
   },
   "file_extension": ".py",
   "mimetype": "text/x-python",
   "name": "python",
   "nbconvert_exporter": "python",
   "pygments_lexer": "ipython3",
   "version": "3.8.3"
  }
 },
 "nbformat": 4,
 "nbformat_minor": 1
}
